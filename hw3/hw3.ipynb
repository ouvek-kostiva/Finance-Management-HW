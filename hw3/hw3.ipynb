{
 "cells": [
  {
   "cell_type": "code",
   "execution_count": 38,
   "metadata": {
    "collapsed": false
   },
   "outputs": [
    {
     "name": "stdout",
     "output_type": "stream",
     "text": [
      "使用方法: 回收期<pp>或折現後回收期<dpp> [<資金成本(折現率)>] <各期金額>\n",
      "折現後回收期例: dpp 0.08 -30000000 6500000 6500000 6500000 6500000 6500000 6500000\n",
      "回收期例: pp -30000000 6500000 6500000 6500000 6500000 6500000 6500000\n",
      "pp -30000000 6500000 6500000 6500000 6500000 6500000 6500000\n",
      "年度: 0 累積現金流量: -30000000.0\n",
      "年度: 1 累積現金流量: -23500000.0\n",
      "年度: 2 累積現金流量: -17000000.0\n",
      "年度: 3 累積現金流量: -10500000.0\n",
      "年度: 4 累積現金流量: -4000000.0\n",
      "年度: 5 累積現金流量: 2500000.0\n",
      "年度: 6 累積現金流量: 9000000.0\n",
      "回收期: 4.384615384615385 年\n"
     ]
    }
   ],
   "source": [
    "\n",
    "def main():\n",
    "    print(\"使用方法: 回收期<pp>或折現後回收期<dpp> [<資金成本(折現率)>] <各期金額>\")\n",
    "    print(\"折現後回收期例: dpp 0.08 -30000000 6500000 6500000 6500000 6500000 6500000 6500000\")\n",
    "    print(\"回收期例: pp -30000000 6500000 6500000 6500000 6500000 6500000 6500000\")\n",
    "    arg = input().strip().split()\n",
    "    if len(arg) < 2: # 1\n",
    "        print(\"使用方法: 回收期<pp>或折現後回收期<dpp> [<資金成本(折現率)>] <各期金額>\")\n",
    "        print(\"折現後回收期例: dpp 0.08 -30000000 6500000 6500000 6500000 6500000 6500000 6500000\")\n",
    "        print(\"回收期例: pp -30000000 6500000 6500000 6500000 6500000 6500000 6500000\")\n",
    "\n",
    "    if \"pp\" == arg[0]:\n",
    "        argLength = len(arg)\n",
    "        n = 0\n",
    "        first = float(arg[1])\n",
    "        print(\"年度:\",0,\"累積現金流量:\",first)\n",
    "        for i in range(2,argLength):\n",
    "            first = first + float(arg[i])\n",
    "            print(\"年度:\",i-1,\"累積現金流量:\",first)\n",
    "            if(0 >= first):\n",
    "                n = 1 + n\n",
    "            else:\n",
    "                profit = first - float(arg[i])\n",
    "        devi = abs(profit) / float(arg[i])\n",
    "        pp = n + devi\n",
    "        print(\"回收期:\",pp,\"年\")\n",
    "    \n",
    "    if \"dpp\" == arg[0]:\n",
    "        argLength = len(arg)\n",
    "        n = 0\n",
    "        k = float(arg[1])\n",
    "        first = float(arg[2])\n",
    "        print(\"年度:\",0,\"折現因子(折現率=\", k,\"):\", 1,\"     現金流量折現值:\",round(first),\" 累積現金流量:\",first)\n",
    "        for i in range(3,argLength):\n",
    "            rate = 1 / (k + 1)**(i-2)\n",
    "            first = first + (float(arg[i]) * rate)\n",
    "            print(\"年度:\",i-2,\"折現因子(折現率=\", k,\"):\", round(rate,4),\"現金流量折現值:\",round(float(arg[i]) * rate,2),\"累積現金流量:\",round(first,2))\n",
    "            if(0 >= first):\n",
    "                n = 1 + n\n",
    "            else:\n",
    "                profit = first - (float(arg[i]) * rate)\n",
    "        devi = abs(profit) / (float(arg[i]) * rate)\n",
    "        dpp = n + devi\n",
    "        print(\"回收期:\",dpp,\"年\")\n",
    "    \n",
    "main()"
   ]
  }
 ],
 "metadata": {
  "kernelspec": {
   "display_name": "Python 3",
   "language": "python",
   "name": "python3"
  },
  "language_info": {
   "codemirror_mode": {
    "name": "ipython",
    "version": 3
   },
   "file_extension": ".py",
   "mimetype": "text/x-python",
   "name": "python",
   "nbconvert_exporter": "python",
   "pygments_lexer": "ipython3",
   "version": "3.6.0"
  }
 },
 "nbformat": 4,
 "nbformat_minor": 2
}
